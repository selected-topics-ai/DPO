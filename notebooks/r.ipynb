{
 "cells": [
  {
   "cell_type": "code",
   "id": "initial_id",
   "metadata": {
    "collapsed": true,
    "ExecuteTime": {
     "end_time": "2025-03-06T11:15:58.987093Z",
     "start_time": "2025-03-06T11:15:58.725640Z"
    }
   },
   "source": "import pandas as pd",
   "outputs": [],
   "execution_count": 1
  },
  {
   "metadata": {
    "ExecuteTime": {
     "end_time": "2025-03-06T11:20:32.185023Z",
     "start_time": "2025-03-06T11:20:32.174084Z"
    }
   },
   "cell_type": "code",
   "source": "df = pd.read_csv('winrate.csv')",
   "id": "16309ad569a1a29b",
   "outputs": [],
   "execution_count": 10
  },
  {
   "metadata": {
    "ExecuteTime": {
     "end_time": "2025-03-06T11:20:32.588664Z",
     "start_time": "2025-03-06T11:20:32.585591Z"
    }
   },
   "cell_type": "code",
   "source": "df['model'] = df['model'].apply(lambda x: x.replace('../mikheevshow-', ''))",
   "id": "654c71f7ba89fff9",
   "outputs": [],
   "execution_count": 11
  },
  {
   "metadata": {
    "ExecuteTime": {
     "end_time": "2025-03-06T11:21:40.913094Z",
     "start_time": "2025-03-06T11:21:40.909986Z"
    }
   },
   "cell_type": "code",
   "source": "df['beta'] = [0.1, 0.1, 0.1, 0.1, 1.0, 5.0, 0.05]",
   "id": "1782a4bda2507bde",
   "outputs": [],
   "execution_count": 13
  },
  {
   "metadata": {
    "ExecuteTime": {
     "end_time": "2025-03-06T11:21:44.979068Z",
     "start_time": "2025-03-06T11:21:44.972261Z"
    }
   },
   "cell_type": "code",
   "source": "df",
   "id": "a653310592038cbd",
   "outputs": [
    {
     "data": {
      "text/plain": [
       "                                               model  winrate  beta\n",
       "0  DPO-alpha-divergence-alpha_0_5_beta_0_1_genera...     0.48  0.10\n",
       "1           DPO-forward_kl_beta_0_1_generation_0.csv     0.49  0.10\n",
       "2        DPO-js_divergence_beta_0_1_generation_0.csv     0.43  0.10\n",
       "3           DPO-reverse_kl_beta_0_1_generation_0.csv     0.46  0.10\n",
       "4           DPO-reverse_kl_beta_1_0_generation_0.csv     0.52  1.00\n",
       "5           DPO-reverse_kl_beta_5_0_generation_0.csv     0.48  5.00\n",
       "6          DPO-reverse_kl_beta_0_05_generation_0.csv     0.49  0.05"
      ],
      "text/html": [
       "<div>\n",
       "<style scoped>\n",
       "    .dataframe tbody tr th:only-of-type {\n",
       "        vertical-align: middle;\n",
       "    }\n",
       "\n",
       "    .dataframe tbody tr th {\n",
       "        vertical-align: top;\n",
       "    }\n",
       "\n",
       "    .dataframe thead th {\n",
       "        text-align: right;\n",
       "    }\n",
       "</style>\n",
       "<table border=\"1\" class=\"dataframe\">\n",
       "  <thead>\n",
       "    <tr style=\"text-align: right;\">\n",
       "      <th></th>\n",
       "      <th>model</th>\n",
       "      <th>winrate</th>\n",
       "      <th>beta</th>\n",
       "    </tr>\n",
       "  </thead>\n",
       "  <tbody>\n",
       "    <tr>\n",
       "      <th>0</th>\n",
       "      <td>DPO-alpha-divergence-alpha_0_5_beta_0_1_genera...</td>\n",
       "      <td>0.48</td>\n",
       "      <td>0.10</td>\n",
       "    </tr>\n",
       "    <tr>\n",
       "      <th>1</th>\n",
       "      <td>DPO-forward_kl_beta_0_1_generation_0.csv</td>\n",
       "      <td>0.49</td>\n",
       "      <td>0.10</td>\n",
       "    </tr>\n",
       "    <tr>\n",
       "      <th>2</th>\n",
       "      <td>DPO-js_divergence_beta_0_1_generation_0.csv</td>\n",
       "      <td>0.43</td>\n",
       "      <td>0.10</td>\n",
       "    </tr>\n",
       "    <tr>\n",
       "      <th>3</th>\n",
       "      <td>DPO-reverse_kl_beta_0_1_generation_0.csv</td>\n",
       "      <td>0.46</td>\n",
       "      <td>0.10</td>\n",
       "    </tr>\n",
       "    <tr>\n",
       "      <th>4</th>\n",
       "      <td>DPO-reverse_kl_beta_1_0_generation_0.csv</td>\n",
       "      <td>0.52</td>\n",
       "      <td>1.00</td>\n",
       "    </tr>\n",
       "    <tr>\n",
       "      <th>5</th>\n",
       "      <td>DPO-reverse_kl_beta_5_0_generation_0.csv</td>\n",
       "      <td>0.48</td>\n",
       "      <td>5.00</td>\n",
       "    </tr>\n",
       "    <tr>\n",
       "      <th>6</th>\n",
       "      <td>DPO-reverse_kl_beta_0_05_generation_0.csv</td>\n",
       "      <td>0.49</td>\n",
       "      <td>0.05</td>\n",
       "    </tr>\n",
       "  </tbody>\n",
       "</table>\n",
       "</div>"
      ]
     },
     "execution_count": 14,
     "metadata": {},
     "output_type": "execute_result"
    }
   ],
   "execution_count": 14
  },
  {
   "metadata": {},
   "cell_type": "code",
   "outputs": [],
   "execution_count": null,
   "source": "",
   "id": "8daf0a5a8cddee6d"
  }
 ],
 "metadata": {
  "kernelspec": {
   "display_name": "Python 3",
   "language": "python",
   "name": "python3"
  },
  "language_info": {
   "codemirror_mode": {
    "name": "ipython",
    "version": 2
   },
   "file_extension": ".py",
   "mimetype": "text/x-python",
   "name": "python",
   "nbconvert_exporter": "python",
   "pygments_lexer": "ipython2",
   "version": "2.7.6"
  }
 },
 "nbformat": 4,
 "nbformat_minor": 5
}
