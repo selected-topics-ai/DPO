{
 "cells": [
  {
   "cell_type": "code",
   "execution_count": null,
   "id": "initial_id",
   "metadata": {
    "collapsed": true
   },
   "outputs": [],
   "source": ""
  },
  {
   "metadata": {},
   "cell_type": "markdown",
   "source": [
    "За основу для экспериментов по DPO-алайменту была взята инструктированная модель [SmolLM2-135M-Instruct](https://huggingface.co/HuggingFaceTB/SmolLM2-135M-Instruct). В качестве набора данных использовался был взят [ultrafeedback_binarized](https://huggingface.co/datasets/trl-lib/ultrafeedback_binarized).\n",
    "\n",
    "\n",
    "Параметры обучения\n",
    "\n",
    "шаг обучения 5e-5\n",
    "beta 0.1\n",
    "bf16 = True\n",
    "logging_steps = 1\n",
    "\n",
    "max_promt_length = 1024\n",
    "max_length = 1536\n",
    "\n",
    "per_device_eval_batch_size  = 4\n",
    "per_device_train_batch_size = 4\n",
    "gradient_accumulation_steps = 4\n",
    "\n",
    "\n",
    "max_steps                   = 200\n",
    "\n",
    "### __Параметры для Reverse KL__\n",
    "\n",
    "Шаг обучения $5e-5$, коэффициент KL дивергенции $\\beta \\in [0.05, 0.1, 1.0, 5.0]$\n",
    "\n",
    "### __Параметры для Forward KL__\n",
    "\n",
    "### __Параметры для $\\alpha$-divergence__\n",
    "\n",
    "$L(\\theta, D) = E_{(x, y_w, y_l)\\~D}\\bigg[-\\text{log}\\sigma\\bigg(\\beta$\n",
    "\n",
    "### __Как рассчитывалась KL-дивергенция__\n",
    "\n",
    "Фиксируем 100 тестовых промтов. Двумя взятыми моделями генерируем ответы для каждого промта. На основе выходных логитов модели рассчитываем KL-дивергенцию для каждой пары ответов. В конце усредняем."
   ],
   "id": "bc461ba7e951f537"
  },
  {
   "metadata": {},
   "cell_type": "code",
   "outputs": [],
   "execution_count": null,
   "source": "",
   "id": "3cc831c425a89abb"
  }
 ],
 "metadata": {
  "kernelspec": {
   "display_name": "Python 3",
   "language": "python",
   "name": "python3"
  },
  "language_info": {
   "codemirror_mode": {
    "name": "ipython",
    "version": 2
   },
   "file_extension": ".py",
   "mimetype": "text/x-python",
   "name": "python",
   "nbconvert_exporter": "python",
   "pygments_lexer": "ipython2",
   "version": "2.7.6"
  }
 },
 "nbformat": 4,
 "nbformat_minor": 5
}
