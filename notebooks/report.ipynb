{
 "cells": [
  {
   "cell_type": "code",
   "execution_count": null,
   "id": "initial_id",
   "metadata": {
    "collapsed": true
   },
   "outputs": [],
   "source": ""
  },
  {
   "metadata": {},
   "cell_type": "markdown",
   "source": [
    "За основу для экспериментов по DPO-алайменту была взята инструктированная модель [SmolLM2-135M-Instruct](https://huggingface.co/HuggingFaceTB/SmolLM2-135M-Instruct). В качестве набора данных использовался был взят [ultrafeedback_binarized](https://huggingface.co/datasets/trl-lib/ultrafeedback_binarized).\n",
    "\n",
    "### __Параметры для Reverse KL__\n",
    "\n",
    "### __Параметры для Forward KL__\n",
    "\n",
    "### __Параметры для $\\alpha$-divergence__\n",
    "\n",
    "$L(\\theta, D) = E_{(x, y_w, y_l)\\~D}\\bigg[-\\text{log}\\sigma\\bigg(\\beta$\n",
    "\n",
    "### __Как рассчитывалась KL-дивергенция__\n",
    "\n",
    "Фиксируем 100 тестовых промтов. Двумя взятыми моделями генерируем ответы для каждого промта. На основе выходных логитов модели рассчитываем KL-дивергенцию для каждой пары ответов. В конце усредняем."
   ],
   "id": "bc461ba7e951f537"
  },
  {
   "metadata": {},
   "cell_type": "code",
   "outputs": [],
   "execution_count": null,
   "source": "",
   "id": "3cc831c425a89abb"
  }
 ],
 "metadata": {
  "kernelspec": {
   "display_name": "Python 3",
   "language": "python",
   "name": "python3"
  },
  "language_info": {
   "codemirror_mode": {
    "name": "ipython",
    "version": 2
   },
   "file_extension": ".py",
   "mimetype": "text/x-python",
   "name": "python",
   "nbconvert_exporter": "python",
   "pygments_lexer": "ipython2",
   "version": "2.7.6"
  }
 },
 "nbformat": 4,
 "nbformat_minor": 5
}
